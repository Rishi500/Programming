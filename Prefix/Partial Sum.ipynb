{
 "cells": [
  {
   "cell_type": "code",
   "execution_count": 19,
   "metadata": {},
   "outputs": [],
   "source": [
    "# Partial Sum\n",
    "# There are N developers and ith developer likes all computers in the range [ li ,ri ], \n",
    "# both inclusive. A computer is good if it is liked by at least K developers.\n",
    "\n",
    "# You are given Q queries. Each query consists of two numbers L, R. \n",
    "# You have to find how many computers in the range [L,R] is cool.\n",
    "\n",
    "# Input Format\n",
    "\n",
    "# The first line of input contains three integers, N, K (1 ≤ K ≤ N ≤ 1000000), and Q (1 ≤ Q ≤ 1000000).\n",
    "\n",
    "# The next N lines contain two integers li and ri (1 ≤ li ≤ ri≤ 1000000), \n",
    "# describing that the i-th developer likes all the computers [li,ri].\n",
    "\n",
    "# The next Q lines contain L and R, (1 ≤ L ≤ R ≤ 1000000).\n",
    "\n",
    "# Output Format\n",
    "\n",
    "# For each query print how many computers in the range [L,R] is cool in a new line."
   ]
  },
  {
   "cell_type": "code",
   "execution_count": 20,
   "metadata": {},
   "outputs": [],
   "source": [
    "class PartialSum:\n",
    "    def __init__(self,n):\n",
    "        self.nums = [0 for i in range(n)]\n",
    "        self.pre = None\n",
    "    \n",
    "    def ithElementLikes(self,li,ri):\n",
    "        l = len(self.nums)\n",
    "        self.nums[li]+=1\n",
    "        if ri==l-1:\n",
    "            return\n",
    "        else:\n",
    "            self.nums[ri+1]-=1\n",
    "    def generatePre(self,k):\n",
    "        self.pre = [0 for i in range(len(self.nums))]\n",
    "        previous = 0\n",
    "        for i in range(len(self.nums)):\n",
    "            self.pre[i]= self.nums[i]+previous\n",
    "            previous = self.pre[i]\n",
    "        previous = 0\n",
    "        for i in range(len(self.nums)):\n",
    "            if self.pre[i]>=k:\n",
    "                self.pre[i]=1+previous\n",
    "            else:\n",
    "                self.pre[i]=previous\n",
    "            previous = self.pre[i]\n",
    "        \n",
    "    \n",
    "    def query(self,l,r,k):\n",
    "        if self.pre == None:\n",
    "            self.generatePre(k)\n",
    "            print(self.pre)\n",
    "        if l==0:\n",
    "            return self.pre[r]\n",
    "        else:\n",
    "            return self.pre[r]-self.pre[l-1]       "
   ]
  },
  {
   "cell_type": "code",
   "execution_count": 16,
   "metadata": {},
   "outputs": [],
   "source": [
    "def takeInput():\n",
    "    n,k,q = [int(i) for i in input().split(' ')]\n",
    "    ps = PartialSum(n)\n",
    "    for i in range(n):\n",
    "        l,r = [int(j) for j in input().split()]\n",
    "        ps.ithElementLikes(l-1,r-1)\n",
    "    for i in range(q):\n",
    "        l,r = [int(j) for j in input().split()]\n",
    "        print(ps.query(l-1,r-1,k))"
   ]
  },
  {
   "cell_type": "code",
   "execution_count": 17,
   "metadata": {},
   "outputs": [
    {
     "name": "stdout",
     "output_type": "stream",
     "text": [
      "10 3 10\n",
      "1 5\n",
      "2 7\n",
      "3 9\n",
      "1 5\n",
      "3 8\n",
      "4 10\n",
      "7 10\n",
      "8 8\n",
      "5 5\n",
      "6 7\n",
      "1 5\n",
      "[0, 1, 2, 3, 4, 5, 6, 7, 8, 8]\n",
      "4\n",
      "3 8\n",
      "6\n",
      "4 9\n",
      "6\n",
      "3 10\n",
      "7\n",
      "2 6\n",
      "5\n",
      "3 9\n",
      "7\n",
      "7 7\n",
      "1\n",
      "5 5\n",
      "1\n",
      "8 8\n",
      "1\n",
      "3 7\n",
      "5\n"
     ]
    }
   ],
   "source": [
    "takeInput()"
   ]
  },
  {
   "cell_type": "code",
   "execution_count": null,
   "metadata": {},
   "outputs": [],
   "source": []
  }
 ],
 "metadata": {
  "kernelspec": {
   "display_name": "Python 3",
   "language": "python",
   "name": "python3"
  },
  "language_info": {
   "codemirror_mode": {
    "name": "ipython",
    "version": 3
   },
   "file_extension": ".py",
   "mimetype": "text/x-python",
   "name": "python",
   "nbconvert_exporter": "python",
   "pygments_lexer": "ipython3",
   "version": "3.8.5"
  }
 },
 "nbformat": 4,
 "nbformat_minor": 4
}
