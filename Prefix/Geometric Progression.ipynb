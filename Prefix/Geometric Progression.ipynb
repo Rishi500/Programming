{
 "cells": [
  {
   "cell_type": "markdown",
   "metadata": {},
   "source": [
    "Given a immutable array and Q range queries (l,r) find A.P. sum across the given range"
   ]
  },
  {
   "cell_type": "code",
   "execution_count": 1,
   "metadata": {},
   "outputs": [],
   "source": [
    "#Bruteforce\n",
    "#Iterate Q times and Find GP sum"
   ]
  },
  {
   "cell_type": "code",
   "execution_count": 17,
   "metadata": {},
   "outputs": [],
   "source": [
    "#Optimized\n",
    "class GPsum:\n",
    "    def __init__(self,arr,k):\n",
    "        l = len(arr)\n",
    "        temp = []\n",
    "        exp = 1\n",
    "        for i in range(l):\n",
    "            temp.append(arr[i]*exp)\n",
    "            exp = exp * k\n",
    "        self.pre = []\n",
    "        prev = 0\n",
    "        for i in range(l):\n",
    "            self.pre.append(temp[i]+prev)\n",
    "            prev = self.pre[i]\n",
    "        self.expInv = []\n",
    "        exp = 1\n",
    "        for i in range(10000):\n",
    "            self.expInv.append(exp)\n",
    "            exp = exp/k\n",
    "        print(self.pre)\n",
    "    \n",
    "    def rangeSum(self,l,r):\n",
    "        if l==0:\n",
    "            return self.pre[r]\n",
    "        return self.pre[r]-self.pre[l]\n",
    "            \n",
    "    def query(self,l,r):\n",
    "        return self.rangeSum(l,r)*self.expInv[l]        "
   ]
  },
  {
   "cell_type": "code",
   "execution_count": 18,
   "metadata": {},
   "outputs": [
    {
     "name": "stdout",
     "output_type": "stream",
     "text": [
      "[1, 5, 1, -15, 33]\n"
     ]
    }
   ],
   "source": [
    "nums = [1,2,-1,-2,3]\n",
    "gp = GPsum(nums,2)\n"
   ]
  },
  {
   "cell_type": "code",
   "execution_count": 19,
   "metadata": {},
   "outputs": [
    {
     "data": {
      "text/plain": [
       "1"
      ]
     },
     "execution_count": 19,
     "metadata": {},
     "output_type": "execute_result"
    }
   ],
   "source": [
    "gp.query(0,2)"
   ]
  },
  {
   "cell_type": "code",
   "execution_count": 20,
   "metadata": {},
   "outputs": [
    {
     "data": {
      "text/plain": [
       "-15"
      ]
     },
     "execution_count": 20,
     "metadata": {},
     "output_type": "execute_result"
    }
   ],
   "source": [
    "gp.query(0,3)"
   ]
  },
  {
   "cell_type": "code",
   "execution_count": null,
   "metadata": {},
   "outputs": [],
   "source": []
  }
 ],
 "metadata": {
  "kernelspec": {
   "display_name": "Python 3",
   "language": "python",
   "name": "python3"
  },
  "language_info": {
   "codemirror_mode": {
    "name": "ipython",
    "version": 3
   },
   "file_extension": ".py",
   "mimetype": "text/x-python",
   "name": "python",
   "nbconvert_exporter": "python",
   "pygments_lexer": "ipython3",
   "version": "3.8.5"
  }
 },
 "nbformat": 4,
 "nbformat_minor": 4
}
