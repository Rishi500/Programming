{
 "cells": [
  {
   "cell_type": "code",
   "execution_count": 1,
   "metadata": {},
   "outputs": [],
   "source": [
    "# Given an array of N integers and Q queries. In each query two integers L, R is given, \n",
    "# you have to find (A[L] + A[L+1]*2 + A[L+2]*3 + A[L+3]*4...A[R]*(R-L+1)) % 10^9+7."
   ]
  },
  {
   "cell_type": "code",
   "execution_count": 55,
   "metadata": {},
   "outputs": [],
   "source": [
    "class SeriesSum:\n",
    "    def __init__(self,nums,n):\n",
    "        self.nums = nums\n",
    "        self.n = n\n",
    "        self.preArr1 = []\n",
    "        self.preArr2 = []\n",
    "        \n",
    "        prev1 = 0\n",
    "        prev2 = 0\n",
    "        \n",
    "        for i in range(self.n):\n",
    "            self.preArr1.append(self.nums[i]+prev1)\n",
    "            prev1 = self.preArr1[i]\n",
    "        \n",
    "        for i in range(self.n):\n",
    "            self.preArr2.append((self.nums[i]*(i+1))+prev2)\n",
    "            prev2 = self.preArr2[i]\n",
    "    \n",
    "    def rangeSum(self,arr,li,ri):\n",
    "        if li==0:\n",
    "            return arr[ri]\n",
    "        else:\n",
    "            return arr[ri]-arr[li-1]\n",
    "    \n",
    "    def query(self,l,r):\n",
    "        ans1 = self.rangeSum(self.preArr1,l,r)\n",
    "        ans2 = self.rangeSum(self.preArr2,l,r)\n",
    "        ans = (ans1*(l)*-1)+ans2\n",
    "        return ans"
   ]
  },
  {
   "cell_type": "code",
   "execution_count": 56,
   "metadata": {},
   "outputs": [],
   "source": [
    "def takeInput():\n",
    "    n,q = [int(i) for i in input().split(' ')]\n",
    "    arr = [int(i) for i in input().split(' ')]\n",
    "    ss = SeriesSum(arr,len(arr))\n",
    "    for i in range(q):\n",
    "        l,r = [int(j) for j in input().split()]\n",
    "        print(ss.query(l-1,r-1))"
   ]
  },
  {
   "cell_type": "code",
   "execution_count": 57,
   "metadata": {},
   "outputs": [
    {
     "name": "stdout",
     "output_type": "stream",
     "text": [
      "4 4\n",
      "1 2 3 4\n",
      "1 2\n",
      "5\n",
      "1 3\n",
      "14\n",
      "2 3\n",
      "8\n",
      "2 4\n",
      "20\n"
     ]
    }
   ],
   "source": [
    "takeInput()"
   ]
  },
  {
   "cell_type": "code",
   "execution_count": null,
   "metadata": {},
   "outputs": [],
   "source": []
  },
  {
   "cell_type": "code",
   "execution_count": null,
   "metadata": {},
   "outputs": [],
   "source": []
  }
 ],
 "metadata": {
  "kernelspec": {
   "display_name": "Python 3",
   "language": "python",
   "name": "python3"
  },
  "language_info": {
   "codemirror_mode": {
    "name": "ipython",
    "version": 3
   },
   "file_extension": ".py",
   "mimetype": "text/x-python",
   "name": "python",
   "nbconvert_exporter": "python",
   "pygments_lexer": "ipython3",
   "version": "3.8.5"
  }
 },
 "nbformat": 4,
 "nbformat_minor": 4
}
