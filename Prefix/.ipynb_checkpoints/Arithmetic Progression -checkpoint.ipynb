{
 "cells": [
  {
   "cell_type": "markdown",
   "metadata": {},
   "source": [
    "Given a immutable array and Q range queries (l,r) find A.P. sum across the given range"
   ]
  },
  {
   "cell_type": "code",
   "execution_count": 1,
   "metadata": {},
   "outputs": [],
   "source": [
    "#Bruteforce\n",
    "#Iterate Q times and Find AP sum"
   ]
  },
  {
   "cell_type": "code",
   "execution_count": 4,
   "metadata": {},
   "outputs": [],
   "source": [
    "#Optimized\n",
    "class APsum:\n",
    "    def __init__(self,arr):\n",
    "        l = len(arr)\n",
    "        self.cummulativeSum = []\n",
    "        prev = 0\n",
    "        for i in range(l):\n",
    "            self.cummulativeSum.append(prev+arr[i])\n",
    "            prev = self.cummulativeSum[i]\n",
    "        self.cummulativeIndexSum = []\n",
    "        prev = 0\n",
    "        for i in range(l):\n",
    "            self.cummulativeIndexSum.append(prev + (arr[i]*(i+1)))\n",
    "            prev = self.cummulativeIndexSum[i]\n",
    "        \n",
    "    def rangeSum(self,nums,l,r):\n",
    "        if l==0:\n",
    "            return nums[r]\n",
    "        return nums[r]-nums[l-1]\n",
    "        \n",
    "            \n",
    "    def query(self,l,r):\n",
    "        return -l*self.rangeSum(self.cummulativeSum,l,r) + self.rangeSum(self.cummulativeIndexSum,l,r)\n",
    "        "
   ]
  },
  {
   "cell_type": "code",
   "execution_count": 8,
   "metadata": {},
   "outputs": [],
   "source": [
    "nums = [1,2,-1,3,-2]\n",
    "ap = APsum(nums)"
   ]
  },
  {
   "cell_type": "code",
   "execution_count": 9,
   "metadata": {},
   "outputs": [
    {
     "data": {
      "text/plain": [
       "-1"
      ]
     },
     "execution_count": 9,
     "metadata": {},
     "output_type": "execute_result"
    }
   ],
   "source": [
    "ap.query(2,4)"
   ]
  },
  {
   "cell_type": "code",
   "execution_count": 10,
   "metadata": {},
   "outputs": [
    {
     "data": {
      "text/plain": [
       "5"
      ]
     },
     "execution_count": 10,
     "metadata": {},
     "output_type": "execute_result"
    }
   ],
   "source": [
    "ap.query(0,1)"
   ]
  },
  {
   "cell_type": "code",
   "execution_count": null,
   "metadata": {},
   "outputs": [],
   "source": []
  },
  {
   "cell_type": "code",
   "execution_count": null,
   "metadata": {},
   "outputs": [],
   "source": []
  }
 ],
 "metadata": {
  "kernelspec": {
   "display_name": "Python 3",
   "language": "python",
   "name": "python3"
  },
  "language_info": {
   "codemirror_mode": {
    "name": "ipython",
    "version": 3
   },
   "file_extension": ".py",
   "mimetype": "text/x-python",
   "name": "python",
   "nbconvert_exporter": "python",
   "pygments_lexer": "ipython3",
   "version": "3.8.5"
  }
 },
 "nbformat": 4,
 "nbformat_minor": 4
}
